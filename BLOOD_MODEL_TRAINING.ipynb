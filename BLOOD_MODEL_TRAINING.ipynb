{
 "cells": [
  {
   "cell_type": "code",
   "execution_count": 2,
   "metadata": {},
   "outputs": [
    {
     "name": "stderr",
     "output_type": "stream",
     "text": [
      "C:\\Users\\mindf\\anaconda3\\lib\\site-packages\\xgboost\\compat.py:36: FutureWarning: pandas.Int64Index is deprecated and will be removed from pandas in a future version. Use pandas.Index with the appropriate dtype instead.\n",
      "  from pandas import MultiIndex, Int64Index\n"
     ]
    }
   ],
   "source": [
    "import torch\n",
    "import pandas as pd\n",
    "import xgboost as xgb"
   ]
  },
  {
   "cell_type": "code",
   "execution_count": 4,
   "metadata": {},
   "outputs": [],
   "source": [
    "#Load csv\n",
    "BLOOD_DATASET_D1 = pd.read_csv(r'DATASETS\\BLOOD\\BLOOD_WBCELLS_HEMO_(D1).csv')"
   ]
  },
  {
   "cell_type": "code",
   "execution_count": 6,
   "metadata": {},
   "outputs": [],
   "source": [
    "#Create dictionary of ideal values for each score; calculate L2 norm to generate score)\n",
    "IDEAL_VALS = {'hematocrit': {'male': 45.5, 'female': 42}, 'RBC': {'male': 5.4e6, 'female': 4.8e6}, 'MCH': {'male': 29, 'female': 29}, \"MCV\": {'male': 30.5, 'female': 29.5}, \n",
    "              'RDW': {'male': 13.5, 'female': 13.5}, 'Leucocyte': {'male': 7.2e9, 'female': 7.2e9}, \"Platelets\": {'male': 240e9, 'female': 240e9}, \n",
    "              'Neutrophils': {'male': 50, 'female': 50}, 'Basophils': {'male': 0.75, 'female': 0.75}, 'Lymphocyte': {'male': 20, 'female': 20}, \n",
    "              'Creatinine': {'male': 1, 'female': 1.1}, 'Blood potassium': {'male': 4.4, 'female': 4.4}, \n",
    "              'Blood sodium': {'male': 140, 'female': 140}, 'Chloride': {'male': 102.5, 'female': 102.5}}\n",
    "#Source: \n",
    "def generate_score(row):\n",
    "    if row['gender'] == 1:\n",
    "        \n",
    "    return\n",
    "    "
   ]
  }
 ],
 "metadata": {
  "interpreter": {
   "hash": "bb33c15c13a14f140d690812bf0a39a2e5e1e289641f45cea7a1bbeb79eff1a7"
  },
  "kernelspec": {
   "display_name": "Python 3.8.13 ('base')",
   "language": "python",
   "name": "python3"
  },
  "language_info": {
   "codemirror_mode": {
    "name": "ipython",
    "version": 3
   },
   "file_extension": ".py",
   "mimetype": "text/x-python",
   "name": "python",
   "nbconvert_exporter": "python",
   "pygments_lexer": "ipython3",
   "version": "3.8.13"
  },
  "orig_nbformat": 4
 },
 "nbformat": 4,
 "nbformat_minor": 2
}
